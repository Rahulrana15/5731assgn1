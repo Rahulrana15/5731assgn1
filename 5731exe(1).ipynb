{
  "cells": [
    {
      "cell_type": "markdown",
      "metadata": {
        "id": "view-in-github",
        "colab_type": "text"
      },
      "source": [
        "<a href=\"https://colab.research.google.com/github/Rahulrana15/5731assgn1/blob/main/5731exe(1).ipynb\" target=\"_parent\"><img src=\"https://colab.research.google.com/assets/colab-badge.svg\" alt=\"Open In Colab\"/></a>"
      ]
    },
    {
      "cell_type": "markdown",
      "metadata": {
        "id": "DymRJbxDBCnf"
      },
      "source": [
        "# **The first In-class-exercise (09/07/2022, 40 points in total)**"
      ]
    },
    {
      "cell_type": "markdown",
      "metadata": {
        "id": "03jb4GZsBkBS"
      },
      "source": [
        "(1) Write a Python program to calculate the length of a string. (4 points)"
      ]
    },
    {
      "cell_type": "code",
      "execution_count": null,
      "metadata": {
        "colab": {
          "base_uri": "https://localhost:8080/"
        },
        "id": "YaGLbSHHB8Ej",
        "outputId": "62ccb0f7-d7a4-45a7-8c3f-b6d35ea01a48"
      },
      "outputs": [
        {
          "output_type": "stream",
          "name": "stdout",
          "text": [
            "Enter a string: raaaaana\n",
            "Length of the input string is: 8\n"
          ]
        }
      ],
      "source": [
        "# write your answer here\n",
        "word = input(\"Enter a string: \")\n",
        "\n",
        "count = 0\n",
        "for s in word:\n",
        "      count = count+1\n",
        "print(\"Length of the input string is:\", count)"
      ]
    },
    {
      "cell_type": "markdown",
      "metadata": {
        "id": "jJDe71iLB616"
      },
      "source": [
        "(2) Write a Python program to count the number of characters in a string. (4 points)\n",
        "\n",
        "Sample String : 'google.com‘, \n",
        "\n",
        "Expected Result : {'o': 3, 'g': 2, '.': 1, 'e': 1, 'l': 1, 'm': 1, 'c': 1}"
      ]
    },
    {
      "cell_type": "code",
      "execution_count": null,
      "metadata": {
        "colab": {
          "base_uri": "https://localhost:8080/"
        },
        "id": "MtKskTzbCLaU",
        "outputId": "fe56f620-9b4b-41f3-934e-2d673794227c"
      },
      "outputs": [
        {
          "output_type": "stream",
          "name": "stdout",
          "text": [
            "{'g': 2, 'o': 3, 'l': 1, 'e': 1, '.': 1, 'c': 1, 'm': 1}\n"
          ]
        }
      ],
      "source": [
        "# write your answer here\n",
        "def char_count(word1):  \n",
        "    arr = {}  \n",
        "    for n in word1:  \n",
        "        ch = arr.keys()  \n",
        "        if n in ch:  \n",
        "            arr[n] += 1  \n",
        "        else:  \n",
        "            arr[n] = 1  \n",
        "    return arr  \n",
        "print(char_frequency('google.com'))  \n"
      ]
    },
    {
      "cell_type": "markdown",
      "metadata": {
        "id": "55W9AMdXCSpV"
      },
      "source": [
        "(3) Write a Python program to sum all the items in a list. (4 points)"
      ]
    },
    {
      "cell_type": "code",
      "execution_count": null,
      "metadata": {
        "colab": {
          "base_uri": "https://localhost:8080/"
        },
        "id": "I57NXsauCec2",
        "outputId": "2382f6f0-84c2-436e-f317-ac14f19ac2a1"
      },
      "outputs": [
        {
          "output_type": "stream",
          "name": "stdout",
          "text": [
            "123\n"
          ]
        }
      ],
      "source": [
        "# write your answer here\n",
        "def sum_numbers(numbers):\n",
        "    sum_numbers = 0\n",
        "    for x in numbers:\n",
        "        sum_numbers += x\n",
        "    return sum_numbers\n",
        "print(sum_numbers([1,11,111]))\n",
        "\n"
      ]
    },
    {
      "cell_type": "markdown",
      "metadata": {
        "id": "4ulBZ6yhCi9F"
      },
      "source": [
        "(4) Write a Python program to get a string from a given string where all occurrences of its first char have been changed to '\\$', except the first char itself. (4 points)\n",
        "\n",
        "Sample String : 'restart‘, \n",
        "\n",
        "Expected Result : 'resta\\$t'"
      ]
    },
    {
      "cell_type": "code",
      "execution_count": null,
      "metadata": {
        "colab": {
          "base_uri": "https://localhost:8080/"
        },
        "id": "Fj0XhwbBCw2o",
        "outputId": "f6e0ad42-4e32-44cc-e8fe-2abe0a243705"
      },
      "outputs": [
        {
          "output_type": "stream",
          "name": "stdout",
          "text": [
            "resta$t\n"
          ]
        }
      ],
      "source": [
        "# write your answer here\n",
        "def replace_char(str2):\n",
        "  char = str2[0]\n",
        "  if char in str2:\n",
        "     str2 = str2.replace(char, '$')\n",
        "  str2 = char + str2[1:]\n",
        "\n",
        "  return str2\n",
        "\n",
        "print(replace_char('restart'))\n",
        "\n"
      ]
    },
    {
      "cell_type": "markdown",
      "metadata": {
        "id": "_bIP7s1MCzue"
      },
      "source": [
        "(5) Write a program with python which could accept two parameter a and b to calculate and output the result of S, where \n",
        "\n",
        "$\\ S=3.14*(1+a/b)^3$ (4 points)\n",
        "\n"
      ]
    },
    {
      "cell_type": "code",
      "execution_count": null,
      "metadata": {
        "colab": {
          "base_uri": "https://localhost:8080/"
        },
        "id": "w79QilHXD3Mg",
        "outputId": "9a71b0bb-a6af-40ed-ae9c-024eef7b334e"
      },
      "outputs": [
        {
          "output_type": "stream",
          "name": "stdout",
          "text": [
            "enter values of a and b\n",
            "5\n",
            "0\n",
            "enter a valid input\n"
          ]
        }
      ],
      "source": [
        "# write your answer here\n",
        "import math\n",
        "print(\"enter values of a and b\")\n",
        "a=int(input())\n",
        "b=int(input())\n",
        "if b==0:\n",
        "  print(\"enter a valid input\")\n",
        "else:\n",
        "    s=int(math.pi)*(1+a/b)**3\n",
        "    print(s)\n",
        "\n",
        "\n"
      ]
    },
    {
      "cell_type": "markdown",
      "metadata": {
        "id": "xCa2bK9aD4Q3"
      },
      "source": [
        "(6) Write a Python program to concatenate following dictionaries to create a new one. (4 points)\n",
        "\n",
        "Sample Dictionary : dic1={1:10, 2:20}, dic2={3:30, 4:40}, dic3={5:50,6:60}, \n",
        "\n",
        "Expected Result : {1: 10, 2: 20, 3: 30, 4: 40, 5: 50, 6: 60}\n"
      ]
    },
    {
      "cell_type": "code",
      "execution_count": null,
      "metadata": {
        "colab": {
          "base_uri": "https://localhost:8080/"
        },
        "id": "_z4aLqAbEET1",
        "outputId": "dec81e76-0fc3-4169-f2eb-e1e41ee67371"
      },
      "outputs": [
        {
          "output_type": "stream",
          "name": "stdout",
          "text": [
            "{1: 10, 2: 20, 3: 30, 4: 40, 5: 50, 6: 60}\n"
          ]
        }
      ],
      "source": [
        "# write your answer here\n",
        "dic1={1:10, 2:20}\n",
        "dic2={3:30, 4:40}\n",
        "dic3={5:50,6:60}\n",
        "dic4 = {}\n",
        "for d in (dic1, dic2, dic3): dic4.update(d)\n",
        "print(dic4)\n"
      ]
    },
    {
      "cell_type": "markdown",
      "metadata": {
        "id": "0v48Vqa7FrQh"
      },
      "source": [
        "(7) Write a Python program to check whether an element exists within a tuple. (4 points)"
      ]
    },
    {
      "cell_type": "code",
      "execution_count": null,
      "metadata": {
        "colab": {
          "base_uri": "https://localhost:8080/"
        },
        "id": "7WEmgq-DF2P1",
        "outputId": "2c9927ae-abf5-426b-a274-dba53baf9ab5"
      },
      "outputs": [
        {
          "output_type": "stream",
          "name": "stdout",
          "text": [
            "True\n",
            "True\n",
            "False\n"
          ]
        }
      ],
      "source": [
        "# write your answer here\n",
        "# tuple=(1,2,3,4,5,6,7,8,9,\"a\",\"b\",\"c\",\"d\",\"e\")\n",
        "# print(\"enter element\")\n",
        "# r= input()\n",
        "# print(r in tuple)\n",
        "\n",
        "tuple = (\"a\", 1,2,'b' ,3,\"c\", \"d\",4, \"e\", \"f\", \"g\", \"h\", \"i\", \"j\")\n",
        "print(\"d\" in tuple)\n",
        "print(1 in tuple)\n",
        "print('z' in tuple)"
      ]
    },
    {
      "cell_type": "markdown",
      "metadata": {
        "id": "vD5PYLMuGga_"
      },
      "source": [
        "(8) Write a Python program to find maximum and the minimum value in a set. (4 points)"
      ]
    },
    {
      "cell_type": "code",
      "execution_count": null,
      "metadata": {
        "colab": {
          "base_uri": "https://localhost:8080/"
        },
        "id": "t0D5kdJUGjjw",
        "outputId": "316b3862-549d-4e03-d297-1bc4808ae7e1"
      },
      "outputs": [
        {
          "output_type": "stream",
          "name": "stdout",
          "text": [
            "set elements:\n",
            "{5242, 1000, 10, 6220, 3000, 1050}\n",
            "\n",
            "Maximum value\n",
            "6220\n",
            "\n",
            "Minimum value\n",
            "10\n"
          ]
        }
      ],
      "source": [
        "# write your answer here\n",
        "set = {1000, 10, 3000, 1050, 5242, 6220}\n",
        "print(\"set elements:\")\n",
        "print(set)\n",
        "print(\"\\nMaximum value\")\n",
        "print(max(set))\n",
        "print(\"\\nMinimum value\")\n",
        "print(min(set))"
      ]
    },
    {
      "cell_type": "markdown",
      "metadata": {
        "id": "uHkd-y5VhVWC"
      },
      "source": [
        "(9) Write a Python program to randomly divide the students in this class into six groups for term projects, each group should have at least 4 students but no more than 6 students (including 6). Here is the students list: (4 points)\n",
        "\n",
        "studnet_list = ['ja0964','sa1198','sb1357','vb0218','sc1229','kg0569','kg0470','sg1297','bg0320','fh0141','jl1252','sk1386',\n",
        "           'ak0956','sk1390','sk1458','sk1313','ak0934','vm0377','nm0618','sm1640','sm1907','gn0108','pr0353','dr0609','ms1500','aos0040','ds0814', 'av0659','nv0234','hy0232']"
      ]
    },
    {
      "cell_type": "code",
      "execution_count": 9,
      "metadata": {
        "id": "3iGbmcOBhTwy",
        "colab": {
          "base_uri": "https://localhost:8080/"
        },
        "outputId": "80fda086-7878-4251-a1c5-f695cb7aa79a"
      },
      "outputs": [
        {
          "output_type": "stream",
          "name": "stdout",
          "text": [
            "['ak0934', 'ak0956', 'sb1357', 'vm0377', 'aos0040']\n",
            "['sc1229', 'pr0353', 'gn0108', 'nv0234', 'fh0141']\n",
            "['hy0232', 'sm1640', 'bg0320', 'sk1458', 'sg1297']\n",
            "['ds0814', 'kg0470', 'av0659', 'sk1390', 'jl1252']\n",
            "['nm0618', 'ms1500', 'ja0964', 'sa1198', 'dr0609']\n",
            "['vb0218', 'kg0569', 'sm1907', 'sk1313', 'sk1386']\n"
          ]
        }
      ],
      "source": [
        "# write your answer here\n",
        "import random \n",
        "\n",
        "def partition (list_in, n):\n",
        "    random.shuffle(list_in)\n",
        "    return [list_in[i::n] for i in range(n)]\n",
        "    \n",
        "    \n",
        "studnet_list = ['ja0964','sa1198','sb1357','vb0218','sc1229','kg0569','kg0470','sg1297','bg0320','fh0141','jl1252','sk1386', 'ak0956','sk1390','sk1458','sk1313','ak0934','vm0377','nm0618','sm1640','sm1907','gn0108','pr0353','dr0609','ms1500','aos0040','ds0814', 'av0659','nv0234','hy0232']\n",
        "RandomList = partition(studnet_list,6)\n",
        "\n",
        "for x in RandomList:\n",
        "    print(x)\n"
      ]
    },
    {
      "cell_type": "markdown",
      "metadata": {
        "id": "X0H2oKl_yaXG"
      },
      "source": [
        "(10) Write a Python program to find the duplicate elements in a given array of integers. Return -1 If there are no such elements. (4 points)"
      ]
    },
    {
      "cell_type": "code",
      "execution_count": null,
      "metadata": {
        "colab": {
          "base_uri": "https://localhost:8080/"
        },
        "id": "oHq-wbJVyaXH",
        "outputId": "4a1faccc-c0f8-4b82-ca08-f182dbaed21a"
      },
      "outputs": [
        {
          "output_type": "stream",
          "name": "stdout",
          "text": [
            "Duplicate elements\n",
            "1\n",
            "2\n",
            "3\n",
            "8\n"
          ]
        }
      ],
      "source": [
        "# write your answer here\n",
        "num = [1, 2, 3, 1, 2, 7, 8, 8, 3];     \n",
        "     \n",
        "print(\"Duplicate elements\");    \n",
        "for i in range(0, len(num)):    \n",
        "    for j in range(i+1, len(num)):    \n",
        "        if(num[i] == num[j]):    \n",
        "            print(num[i]);\n"
      ]
    },
    {
      "cell_type": "markdown",
      "metadata": {
        "id": "93BuLkVbyaXH"
      },
      "source": [
        "(11) Write a Python program to select all the Sundays of a specified year. (4 extra points)"
      ]
    },
    {
      "cell_type": "code",
      "execution_count": null,
      "metadata": {
        "colab": {
          "base_uri": "https://localhost:8080/"
        },
        "id": "qz3mIkVUyaXH",
        "outputId": "9b0d04de-e202-41b0-e427-04c25b98f3f7"
      },
      "outputs": [
        {
          "output_type": "stream",
          "name": "stdout",
          "text": [
            "2022-01-02\n",
            "2022-01-09\n",
            "2022-01-16\n",
            "2022-01-23\n",
            "2022-01-30\n",
            "2022-02-06\n",
            "2022-02-13\n",
            "2022-02-20\n",
            "2022-02-27\n",
            "2022-03-06\n",
            "2022-03-13\n",
            "2022-03-20\n",
            "2022-03-27\n",
            "2022-04-03\n",
            "2022-04-10\n",
            "2022-04-17\n",
            "2022-04-24\n",
            "2022-05-01\n",
            "2022-05-08\n",
            "2022-05-15\n",
            "2022-05-22\n",
            "2022-05-29\n",
            "2022-06-05\n",
            "2022-06-12\n",
            "2022-06-19\n",
            "2022-06-26\n",
            "2022-07-03\n",
            "2022-07-10\n",
            "2022-07-17\n",
            "2022-07-24\n",
            "2022-07-31\n",
            "2022-08-07\n",
            "2022-08-14\n",
            "2022-08-21\n",
            "2022-08-28\n",
            "2022-09-04\n",
            "2022-09-11\n",
            "2022-09-18\n",
            "2022-09-25\n",
            "2022-10-02\n",
            "2022-10-09\n",
            "2022-10-16\n",
            "2022-10-23\n",
            "2022-10-30\n",
            "2022-11-06\n",
            "2022-11-13\n",
            "2022-11-20\n",
            "2022-11-27\n",
            "2022-12-04\n",
            "2022-12-11\n",
            "2022-12-18\n",
            "2022-12-25\n"
          ]
        }
      ],
      "source": [
        "# write your answer here\n",
        "from datetime import date, timedelta\n",
        "\n",
        "def all_sundays(year):\n",
        "\n",
        "       dt = date(year, 1, 1)\n",
        "\n",
        "       dt += timedelta(days = 6 - dt.weekday())  \n",
        "       while dt.year == year:\n",
        "          yield dt\n",
        "          dt += timedelta(days = 7)\n",
        "          \n",
        "for s in all_sundays(2022):\n",
        "   print(s)\n"
      ]
    }
  ],
  "metadata": {
    "colab": {
      "collapsed_sections": [],
      "provenance": [],
      "include_colab_link": true
    },
    "kernelspec": {
      "display_name": "Python 3 (ipykernel)",
      "language": "python",
      "name": "python3"
    },
    "language_info": {
      "codemirror_mode": {
        "name": "ipython",
        "version": 3
      },
      "file_extension": ".py",
      "mimetype": "text/x-python",
      "name": "python",
      "nbconvert_exporter": "python",
      "pygments_lexer": "ipython3",
      "version": "3.9.12"
    }
  },
  "nbformat": 4,
  "nbformat_minor": 0
}